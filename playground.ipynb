{
 "cells": [
  {
   "cell_type": "code",
   "execution_count": null,
   "id": "849cb884",
   "metadata": {},
   "outputs": [],
   "source": [
    "import torch\n",
    "\n",
    "from torch import nn\n",
    "from torch.optim import Adam\n",
    "from torch.utils.data import DataLoader\n",
    "\n",
    "from collidium import *"
   ]
  },
  {
   "cell_type": "code",
   "execution_count": null,
   "id": "c60d3d51",
   "metadata": {},
   "outputs": [],
   "source": [
    "circles_proximity_queries_dataset_generator(8000, 'train.csv')\n",
    "circles_proximity_queries_dataset_generator(2000, 'test.csv')\n",
    "random_figure_generator('train.csv')"
   ]
  },
  {
   "cell_type": "code",
   "execution_count": null,
   "id": "312f5aa0",
   "metadata": {},
   "outputs": [],
   "source": [
    "training_data = ProximityQueriesDataset('train.csv')\n",
    "test_data = ProximityQueriesDataset('test.csv')\n",
    "train_dataloader = DataLoader(training_data, batch_size=64, shuffle=True)\n",
    "test_dataloader = DataLoader(test_data, batch_size=64, shuffle=True)\n",
    "device = torch.accelerator.current_accelerator().type if torch.accelerator.is_available() else \"cpu\""
   ]
  },
  {
   "cell_type": "code",
   "execution_count": null,
   "id": "f3cadd19",
   "metadata": {},
   "outputs": [],
   "source": [
    "learning_rate = 1e-3\n",
    "weight_decay = 1e-5\n",
    "batch_size = 64\n",
    "epochs = 10\n",
    "model = ShallowNet(input_size=6, hidden_size=32, output_size=1).to(device)\n",
    "loss_fn = nn.BCEWithLogitsLoss()\n",
    "optimizer = Adam(model.parameters(), lr=learning_rate)"
   ]
  },
  {
   "cell_type": "code",
   "execution_count": null,
   "id": "9d7e26e2",
   "metadata": {},
   "outputs": [],
   "source": [
    "def train_loop(dataloader, model, loss_fn, optimizer):\n",
    "    model.train()\n",
    "    total_loss, total_acc = 0, 0\n",
    "\n",
    "    for X, y in dataloader:\n",
    "        X = X.to(device)\n",
    "        y = y.to(device)\n",
    "        logits = model(X)\n",
    "\n",
    "        loss = loss_fn(logits, y)\n",
    "        optimizer.zero_grad()\n",
    "        loss.backward()\n",
    "        optimizer.step()\n",
    "\n",
    "        total_loss += loss.item() * X.size(0)\n",
    "        y_hat = (torch.sigmoid(logits) > 0.5).float()\n",
    "        total_acc += (y_hat == y).sum().item()\n",
    "\n",
    "    avg_loss = total_loss / len(dataloader.dataset)\n",
    "    avg_acc = total_acc / len(dataloader.dataset)\n",
    "\n",
    "    return avg_loss, avg_acc\n",
    "\n",
    "def test_loop(dataloader, model, loss_fn):\n",
    "    model.eval()\n",
    "    total_loss, total_acc = 0, 0\n",
    "\n",
    "    with torch.no_grad():\n",
    "        for X, y in dataloader:\n",
    "            X = X.to(device)\n",
    "            y = y.to(device)\n",
    "            logits = model(X)\n",
    "\n",
    "            loss = loss_fn(logits, y)\n",
    "            total_loss += loss.item() * X.size(0)\n",
    "            y_hat = (torch.sigmoid(logits) > 0.5).float()\n",
    "            total_acc += (y_hat == y).sum().item()\n",
    "\n",
    "        avg_loss = total_loss / len(dataloader.dataset)\n",
    "        avg_acc = total_acc / len(dataloader.dataset)\n",
    "\n",
    "        return avg_loss, avg_acc"
   ]
  },
  {
   "cell_type": "code",
   "execution_count": null,
   "id": "33088add",
   "metadata": {},
   "outputs": [],
   "source": [
    "train_loss = []\n",
    "train_acc = []\n",
    "test_loss = []\n",
    "test_acc = []\n",
    "\n",
    "for epoch in range(1, epochs+1):\n",
    "    train_loss, train_acc = train_loop(train_dataloader, model, loss_fn, optimizer)\n",
    "    test_loss, test_acc = test_loop(test_dataloader, model, loss_fn)\n",
    "    train_loss.append(train_loss)\n",
    "    train_acc.append(train_acc)\n",
    "    test_loss.append(test_loss)\n",
    "    test_acc.append(test_acc)\n"
   ]
  },
  {
   "cell_type": "code",
   "execution_count": null,
   "id": "a420c5d3",
   "metadata": {},
   "outputs": [],
   "source": [
    "torch.save(model, 'proximity_queries_model.pth')"
   ]
  }
 ],
 "metadata": {
  "kernelspec": {
   "display_name": ".mind_the_gaps_pyvenv (3.10.12)",
   "language": "python",
   "name": "python3"
  },
  "language_info": {
   "codemirror_mode": {
    "name": "ipython",
    "version": 3
   },
   "file_extension": ".py",
   "mimetype": "text/x-python",
   "name": "python",
   "nbconvert_exporter": "python",
   "pygments_lexer": "ipython3",
   "version": "3.10.12"
  }
 },
 "nbformat": 4,
 "nbformat_minor": 5
}
