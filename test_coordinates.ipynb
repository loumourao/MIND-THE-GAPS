{
 "cells": [
  {
   "cell_type": "code",
   "execution_count": 9,
   "id": "2fd40620",
   "metadata": {},
   "outputs": [],
   "source": [
    "from collidium import *\n",
    "from math import pi"
   ]
  },
  {
   "cell_type": "code",
   "execution_count": 15,
   "id": "b079c92c",
   "metadata": {},
   "outputs": [
    {
     "name": "stdout",
     "output_type": "stream",
     "text": [
      "-5.0\n",
      "6.123233995736766e-16\n",
      "0\n"
     ]
    }
   ],
   "source": [
    "a = pol(5, 0)\n",
    "b = pol(5, pi)\n",
    "print(b.cx())\n",
    "print(b.cy())\n",
    "print(b.cz())"
   ]
  },
  {
   "cell_type": "code",
   "execution_count": null,
   "id": "38aae834",
   "metadata": {},
   "outputs": [],
   "source": []
  }
 ],
 "metadata": {
  "kernelspec": {
   "display_name": ".mind_the_gaps_pyvenv (3.10.12)",
   "language": "python",
   "name": "python3"
  },
  "language_info": {
   "codemirror_mode": {
    "name": "ipython",
    "version": 3
   },
   "file_extension": ".py",
   "mimetype": "text/x-python",
   "name": "python",
   "nbconvert_exporter": "python",
   "pygments_lexer": "ipython3",
   "version": "3.10.12"
  }
 },
 "nbformat": 4,
 "nbformat_minor": 5
}
